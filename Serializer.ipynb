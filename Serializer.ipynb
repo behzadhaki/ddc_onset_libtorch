{
 "cells": [
  {
   "cell_type": "code",
   "id": "b6ee4600d3a83705",
   "metadata": {
    "collapsed": true,
    "ExecuteTime": {
     "end_time": "2024-08-16T12:33:58.928247Z",
     "start_time": "2024-08-16T12:33:56.820663Z"
    }
   },
   "source": [
    "# test code works after changes for serialization \n",
    "\n",
    "import librosa\n",
    "\n",
    "from ddc_onset import FRAME_RATE, compute_onset_salience, find_peaks\n",
    "\n",
    "# audio is (5864816,) in [-1, 1]\n",
    "audio, sr = librosa.load(librosa.example('fishin'), sr=44100, mono=True)\n",
    "# onset salience is (13301,) in [0, 1]\n",
    "onset_salience = compute_onset_salience(audio, sr)\n",
    "onset_times = [frame / FRAME_RATE for frame in find_peaks(onset_salience)]"
   ],
   "outputs": [
    {
     "name": "stdout",
     "output_type": "stream",
     "text": [
      "Hop size:  441 Sample Rate:  44100 Frame Rate:  100\n"
     ]
    }
   ],
   "execution_count": 1
  },
  {
   "metadata": {
    "ExecuteTime": {
     "end_time": "2024-08-16T12:33:58.937627Z",
     "start_time": "2024-08-16T12:33:58.933625Z"
    }
   },
   "cell_type": "code",
   "source": "onset_salience.shape, len(onset_times), audio.shape",
   "id": "abccff0688ded55d",
   "outputs": [
    {
     "data": {
      "text/plain": [
       "((13301,), 2928, (5864816,))"
      ]
     },
     "execution_count": 2,
     "metadata": {},
     "output_type": "execute_result"
    }
   ],
   "execution_count": 2
  },
  {
   "metadata": {
    "ExecuteTime": {
     "end_time": "2024-08-16T12:33:59.042742Z",
     "start_time": "2024-08-16T12:33:59.040469Z"
    }
   },
   "cell_type": "code",
   "source": "from ddc_onset.cnn import SpectrogramNormalizer",
   "id": "initial_id",
   "outputs": [],
   "execution_count": 3
  },
  {
   "metadata": {
    "ExecuteTime": {
     "end_time": "2024-08-16T12:33:59.098194Z",
     "start_time": "2024-08-16T12:33:59.088576Z"
    }
   },
   "cell_type": "code",
   "source": [
    "normalizer = SpectrogramNormalizer()\n",
    "normalizer.serialize(save_folder='./')"
   ],
   "id": "648aa3cc316e719c",
   "outputs": [],
   "execution_count": 4
  },
  {
   "metadata": {
    "ExecuteTime": {
     "end_time": "2024-08-16T12:33:59.138375Z",
     "start_time": "2024-08-16T12:33:59.136263Z"
    }
   },
   "cell_type": "code",
   "source": "from ddc_onset.spectral import SpectrogramExtractor",
   "id": "26d61e5332d8a7e5",
   "outputs": [],
   "execution_count": 5
  },
  {
   "metadata": {
    "ExecuteTime": {
     "end_time": "2024-08-16T12:33:59.197207Z",
     "start_time": "2024-08-16T12:33:59.180533Z"
    }
   },
   "cell_type": "code",
   "source": [
    "extractor = SpectrogramExtractor()\n",
    "extractor.serialize(save_folder='./')"
   ],
   "id": "ea3e0cae47530f2d",
   "outputs": [
    {
     "name": "stdout",
     "output_type": "stream",
     "text": [
      "Hop size:  441 Sample Rate:  44100 Frame Rate:  100\n"
     ]
    }
   ],
   "execution_count": 6
  },
  {
   "metadata": {
    "ExecuteTime": {
     "end_time": "2024-08-16T12:33:59.293879Z",
     "start_time": "2024-08-16T12:33:59.291684Z"
    }
   },
   "cell_type": "code",
   "source": "from ddc_onset.cnn import PlacementCNN",
   "id": "ea56fda10a47f497",
   "outputs": [],
   "execution_count": 7
  },
  {
   "metadata": {
    "ExecuteTime": {
     "end_time": "2024-08-16T12:33:59.367087Z",
     "start_time": "2024-08-16T12:33:59.337268Z"
    }
   },
   "cell_type": "code",
   "source": [
    "placement_cnn = PlacementCNN()\n",
    "placement_cnn.serialize(save_folder='./')"
   ],
   "id": "c6176faa6a58901",
   "outputs": [],
   "execution_count": 8
  },
  {
   "metadata": {
    "ExecuteTime": {
     "end_time": "2024-08-16T12:33:59.390075Z",
     "start_time": "2024-08-16T12:33:59.388493Z"
    }
   },
   "cell_type": "code",
   "source": "",
   "id": "fe233a4bd45b79f",
   "outputs": [],
   "execution_count": null
  }
 ],
 "metadata": {
  "kernelspec": {
   "display_name": "Python 3",
   "language": "python",
   "name": "python3"
  },
  "language_info": {
   "codemirror_mode": {
    "name": "ipython",
    "version": 2
   },
   "file_extension": ".py",
   "mimetype": "text/x-python",
   "name": "python",
   "nbconvert_exporter": "python",
   "pygments_lexer": "ipython2",
   "version": "2.7.6"
  }
 },
 "nbformat": 4,
 "nbformat_minor": 5
}
