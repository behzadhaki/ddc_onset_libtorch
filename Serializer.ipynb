{
 "cells": [
  {
   "cell_type": "code",
   "id": "b6ee4600d3a83705",
   "metadata": {
    "collapsed": true,
    "ExecuteTime": {
     "end_time": "2024-05-09T13:33:21.894439Z",
     "start_time": "2024-05-09T13:33:21.079499Z"
    }
   },
   "source": [
    "# test code works after changes for serialization \n",
    "\n",
    "import librosa\n",
    "\n",
    "from ddc_onset import FRAME_RATE, compute_onset_salience, find_peaks\n",
    "\n",
    "# audio is (5864816,) in [-1, 1]\n",
    "audio, sr = librosa.load(librosa.example('fishin'), sr=44100, mono=True)\n",
    "# onset salience is (13301,) in [0, 1]\n",
    "onset_salience = compute_onset_salience(audio, sr)\n",
    "onset_times = [frame / FRAME_RATE for frame in find_peaks(onset_salience)]"
   ],
   "outputs": [],
   "execution_count": 9
  },
  {
   "metadata": {
    "ExecuteTime": {
     "end_time": "2024-05-09T13:33:21.898408Z",
     "start_time": "2024-05-09T13:33:21.895595Z"
    }
   },
   "cell_type": "code",
   "source": "onset_salience.shape, len(onset_times), audio.shape",
   "id": "abccff0688ded55d",
   "outputs": [
    {
     "data": {
      "text/plain": [
       "((13301,), 1867, (5864816,))"
      ]
     },
     "execution_count": 10,
     "metadata": {},
     "output_type": "execute_result"
    }
   ],
   "execution_count": 10
  },
  {
   "metadata": {
    "ExecuteTime": {
     "end_time": "2024-05-09T13:33:21.900854Z",
     "start_time": "2024-05-09T13:33:21.899166Z"
    }
   },
   "cell_type": "code",
   "source": "from ddc_onset.cnn import SpectrogramNormalizer",
   "id": "initial_id",
   "outputs": [],
   "execution_count": 11
  },
  {
   "metadata": {
    "ExecuteTime": {
     "end_time": "2024-05-09T13:33:21.909954Z",
     "start_time": "2024-05-09T13:33:21.901956Z"
    }
   },
   "cell_type": "code",
   "source": [
    "normalizer = SpectrogramNormalizer()\n",
    "normalizer.serialize(save_folder='./')"
   ],
   "id": "648aa3cc316e719c",
   "outputs": [],
   "execution_count": 12
  },
  {
   "metadata": {
    "ExecuteTime": {
     "end_time": "2024-05-09T13:33:21.912187Z",
     "start_time": "2024-05-09T13:33:21.910661Z"
    }
   },
   "cell_type": "code",
   "source": "from ddc_onset.spectral import SpectrogramExtractor",
   "id": "26d61e5332d8a7e5",
   "outputs": [],
   "execution_count": 13
  },
  {
   "metadata": {
    "ExecuteTime": {
     "end_time": "2024-05-09T13:33:21.924866Z",
     "start_time": "2024-05-09T13:33:21.912823Z"
    }
   },
   "cell_type": "code",
   "source": [
    "extractor = SpectrogramExtractor()\n",
    "extractor.serialize(save_folder='./')"
   ],
   "id": "ea3e0cae47530f2d",
   "outputs": [],
   "execution_count": 14
  },
  {
   "metadata": {
    "ExecuteTime": {
     "end_time": "2024-05-09T13:33:21.927310Z",
     "start_time": "2024-05-09T13:33:21.925718Z"
    }
   },
   "cell_type": "code",
   "source": "from ddc_onset.cnn import PlacementCNN",
   "id": "ea56fda10a47f497",
   "outputs": [],
   "execution_count": 15
  },
  {
   "metadata": {
    "ExecuteTime": {
     "end_time": "2024-05-09T13:33:21.948043Z",
     "start_time": "2024-05-09T13:33:21.927942Z"
    }
   },
   "cell_type": "code",
   "source": [
    "placement_cnn = PlacementCNN()\n",
    "placement_cnn.serialize(save_folder='./')"
   ],
   "id": "c6176faa6a58901",
   "outputs": [],
   "execution_count": 16
  },
  {
   "metadata": {
    "ExecuteTime": {
     "end_time": "2024-05-09T13:33:21.950517Z",
     "start_time": "2024-05-09T13:33:21.948962Z"
    }
   },
   "cell_type": "code",
   "source": "",
   "id": "fe233a4bd45b79f",
   "outputs": [],
   "execution_count": 16
  }
 ],
 "metadata": {
  "kernelspec": {
   "display_name": "Python 3",
   "language": "python",
   "name": "python3"
  },
  "language_info": {
   "codemirror_mode": {
    "name": "ipython",
    "version": 2
   },
   "file_extension": ".py",
   "mimetype": "text/x-python",
   "name": "python",
   "nbconvert_exporter": "python",
   "pygments_lexer": "ipython2",
   "version": "2.7.6"
  }
 },
 "nbformat": 4,
 "nbformat_minor": 5
}
