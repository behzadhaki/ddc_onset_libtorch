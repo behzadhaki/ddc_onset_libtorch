{
 "cells": [
  {
   "cell_type": "code",
   "id": "initial_id",
   "metadata": {
    "collapsed": true,
    "ExecuteTime": {
     "end_time": "2024-05-09T08:34:44.668838Z",
     "start_time": "2024-05-09T08:34:43.940351Z"
    }
   },
   "source": "from ddc_onset.cnn import SpectrogramNormalizer",
   "outputs": [],
   "execution_count": 1
  },
  {
   "metadata": {
    "ExecuteTime": {
     "end_time": "2024-05-09T08:34:44.699404Z",
     "start_time": "2024-05-09T08:34:44.670180Z"
    }
   },
   "cell_type": "code",
   "source": [
    "normalizer = SpectrogramNormalizer()\n",
    "normalizer.serialize(save_folder='./')"
   ],
   "id": "648aa3cc316e719c",
   "outputs": [],
   "execution_count": 2
  },
  {
   "metadata": {
    "ExecuteTime": {
     "end_time": "2024-05-09T08:34:44.703690Z",
     "start_time": "2024-05-09T08:34:44.700162Z"
    }
   },
   "cell_type": "code",
   "source": "normalizer",
   "id": "26d61e5332d8a7e5",
   "outputs": [
    {
     "data": {
      "text/plain": [
       "SpectrogramNormalizer()"
      ]
     },
     "execution_count": 3,
     "metadata": {},
     "output_type": "execute_result"
    }
   ],
   "execution_count": 3
  }
 ],
 "metadata": {
  "kernelspec": {
   "display_name": "Python 3",
   "language": "python",
   "name": "python3"
  },
  "language_info": {
   "codemirror_mode": {
    "name": "ipython",
    "version": 2
   },
   "file_extension": ".py",
   "mimetype": "text/x-python",
   "name": "python",
   "nbconvert_exporter": "python",
   "pygments_lexer": "ipython2",
   "version": "2.7.6"
  }
 },
 "nbformat": 4,
 "nbformat_minor": 5
}
